{
 "cells": [
  {
   "cell_type": "markdown",
   "id": "c5437028-772d-4de9-ba3e-9c8cf526da5a",
   "metadata": {},
   "source": [
    "# ETL of the CIC IoT 2023 Dataset for Cybersecurity Research\n",
    "\n",
    "[University of New Brunswick - Canadian Institute for Cybersecurity](https://www.unb.ca/cic/datasets/index.html)"
   ]
  },
  {
   "cell_type": "markdown",
   "id": "73252740-a25d-47bb-abc4-11b8e8ea0a0a",
   "metadata": {},
   "source": [
    "# Imports"
   ]
  },
  {
   "cell_type": "code",
   "execution_count": 1,
   "id": "9b62cafe-bb7c-4a8f-bae3-b8811da5f6d3",
   "metadata": {},
   "outputs": [],
   "source": [
    "import os\n",
    "import operator as op\n",
    "from functools import reduce\n",
    "\n",
    "import pandas as pd\n",
    "import yaml"
   ]
  },
  {
   "cell_type": "markdown",
   "id": "9a5d0f28-fb12-4305-b4a9-26c948b743d8",
   "metadata": {},
   "source": [
    "## Definitions"
   ]
  },
  {
   "cell_type": "code",
   "execution_count": 2,
   "id": "dbb661d8-10e1-4a09-81d4-a7c25310f7ba",
   "metadata": {},
   "outputs": [],
   "source": [
    "with open(os.path.join(os.getcwd(), '..', 'constants.yaml' )) as f:\n",
    "    definitions = yaml.safe_load(f)\n",
    "\n",
    "path = definitions['path']\n",
    "csv_path = os.path.join(path, 'unb_cic_csv')\n",
    "parquet_path = os.path.join(path, definitions['parquet_name'])\n",
    "\n",
    "attack_category = definitions['attack_category']\n",
    "protocol_layer = definitions['protocol_layer']\n",
    "features = definitions['features']\n",
    "features['protocol'] = reduce(op.concat, protocol_layer.values())\n",
    "\n",
    "attack_category_map = {\n",
    "    col: attack_category\n",
    "    for attack_category, column_list in attack_category.items()\n",
    "    for col in column_list\n",
    "}"
   ]
  },
  {
   "cell_type": "markdown",
   "id": "f65d39b2-7229-4371-97cb-1cef243acfd6",
   "metadata": {},
   "source": [
    "# Ingestion"
   ]
  },
  {
   "cell_type": "markdown",
   "id": "94d35fe5-b486-412a-b5d0-1a8a9dfed711",
   "metadata": {},
   "source": [
    "## Download dataset"
   ]
  },
  {
   "cell_type": "code",
   "execution_count": 3,
   "id": "f1fac092-9fab-42af-a08a-cc1a65f698c8",
   "metadata": {},
   "outputs": [
    {
     "name": "stdout",
     "output_type": "stream",
     "text": [
      "2,7G\t/var/fasttmp/bruno_dsn/CICIoT2023.zip\n"
     ]
    }
   ],
   "source": [
    "# !wget -P {path} http://205.174.165.80/IOTDataset/CIC_IOT_Dataset2023/Dataset/CSV/CICIoT2023.zip\n",
    "!du -sh {path + 'CICIoT2023.zip'}"
   ]
  },
  {
   "cell_type": "code",
   "execution_count": 4,
   "id": "13dd47e1-8ad8-49ba-899b-ddfb2a202ff1",
   "metadata": {},
   "outputs": [
    {
     "name": "stdout",
     "output_type": "stream",
     "text": [
      "13G\t/var/fasttmp/bruno_dsn/unb_cic_csv\n"
     ]
    }
   ],
   "source": [
    "# !unzip {path + 'CICIoT2023.zip'} -d {csv_path}\n",
    "!du -sh {csv_path}"
   ]
  },
  {
   "cell_type": "markdown",
   "id": "ef8c1c86-70da-4581-856e-3a8d6e50f9b1",
   "metadata": {},
   "source": [
    "## Load and Transform"
   ]
  },
  {
   "cell_type": "code",
   "execution_count": 5,
   "id": "0872766a-451f-42d4-b425-2d0a8be820c4",
   "metadata": {},
   "outputs": [],
   "source": [
    "columns_dtype = {\n",
    "    'category': [\n",
    "        'label'\n",
    "    ],\n",
    "    'bool': [\n",
    "        *features['protocol'],\n",
    "        *features['flag']\n",
    "    ],\n",
    "    'float32': [\n",
    "        *features['flag_counts'],\n",
    "        *features['flow'],\n",
    "        *features['packet'],\n",
    "    ],\n",
    "}\n",
    "\n",
    "column_dtype_map = {\n",
    "    col: dtype\n",
    "    for dtype, column_list in columns_dtype.items()\n",
    "    for col in column_list\n",
    "}"
   ]
  },
  {
   "cell_type": "markdown",
   "id": "3a3d6b70-e1c4-499b-9006-910307a90cf7",
   "metadata": {},
   "source": [
    "Since most of the floating point features are related to a simple average of the pre-defined windows inside a flow, there isn't much to gain having a double precision here, so we're going to work with `float32` for all floating point values."
   ]
  },
  {
   "cell_type": "code",
   "execution_count": 6,
   "id": "149d3182-d16e-4b70-b211-bd9ee339a759",
   "metadata": {},
   "outputs": [
    {
     "name": "stdout",
     "output_type": "stream",
     "text": [
      "<class 'pandas.core.frame.DataFrame'>\n",
      "Index: 46686579 entries, 0 to 451497\n",
      "Data columns (total 48 columns):\n",
      " #   Column           Dtype   \n",
      "---  ------           -----   \n",
      " 0   label            category\n",
      " 1   HTTP             bool    \n",
      " 2   HTTPS            bool    \n",
      " 3   DNS              bool    \n",
      " 4   Telnet           bool    \n",
      " 5   SMTP             bool    \n",
      " 6   SSH              bool    \n",
      " 7   IRC              bool    \n",
      " 8   DHCP             bool    \n",
      " 9   TCP              bool    \n",
      " 10  UDP              bool    \n",
      " 11  ICMP             bool    \n",
      " 12  IPv              bool    \n",
      " 13  ARP              bool    \n",
      " 14  LLC              bool    \n",
      " 15  fin_flag_number  bool    \n",
      " 16  syn_flag_number  bool    \n",
      " 17  rst_flag_number  bool    \n",
      " 18  psh_flag_number  bool    \n",
      " 19  ack_flag_number  bool    \n",
      " 20  ece_flag_number  bool    \n",
      " 21  cwr_flag_number  bool    \n",
      " 22  ack_count        float32 \n",
      " 23  syn_count        float32 \n",
      " 24  fin_count        float32 \n",
      " 25  urg_count        float32 \n",
      " 26  rst_count        float32 \n",
      " 27  flow_duration    float32 \n",
      " 28  Duration         float32 \n",
      " 29  Number           float32 \n",
      " 30  IAT              float32 \n",
      " 31  Rate             float32 \n",
      " 32  Srate            float32 \n",
      " 33  Drate            float32 \n",
      " 34  Protocol Type    float32 \n",
      " 35  Header_Length    float32 \n",
      " 36  Tot sum          float32 \n",
      " 37  Min              float32 \n",
      " 38  Max              float32 \n",
      " 39  AVG              float32 \n",
      " 40  Std              float32 \n",
      " 41  Tot size         float32 \n",
      " 42  Magnitue         float32 \n",
      " 43  Radius           float32 \n",
      " 44  Variance         float32 \n",
      " 45  Covariance       float32 \n",
      " 46  Weight           float32 \n",
      " 47  general_label    category\n",
      "dtypes: bool(21), category(2), float32(25)\n",
      "memory usage: 5.7 GB\n",
      "CPU times: user 7min 57s, sys: 32.6 s, total: 8min 30s\n",
      "Wall time: 8min 30s\n"
     ]
    }
   ],
   "source": [
    "%%time\n",
    "csv_files = (\n",
    "    filename\n",
    "    for filename in os.listdir(csv_path)\n",
    "    if filename.endswith('.csv')\n",
    ")\n",
    "\n",
    "df = pd.concat(\n",
    "    pd.read_csv(os.path.join(csv_path, csv), index_col=None, header=0, dtype=column_dtype_map)[column_dtype_map.keys()]\n",
    "    for csv in csv_files\n",
    ")\n",
    "\n",
    "df['general_label'] = df['label'].map(attack_category_map).astype('category')\n",
    "\n",
    "df.info()"
   ]
  },
  {
   "cell_type": "markdown",
   "id": "f772fb60-723d-4ac9-b615-b4690b8220bb",
   "metadata": {},
   "source": [
    "## Save"
   ]
  },
  {
   "cell_type": "code",
   "execution_count": 7,
   "id": "21d20d5b-d017-428a-afed-f78e916ea02e",
   "metadata": {},
   "outputs": [
    {
     "name": "stdout",
     "output_type": "stream",
     "text": [
      "960M\t/var/fasttmp/bruno_dsn/unb_cic_ds_parquet\n",
      "CPU times: user 1min 54s, sys: 3.87 s, total: 1min 58s\n",
      "Wall time: 1min 44s\n"
     ]
    }
   ],
   "source": [
    "%%time\n",
    "sort_columns = ['general_label', 'label', 'Protocol Type', 'Tot size', 'Header_Length']\n",
    "\n",
    "df.sort_values(sort_columns).to_parquet(parquet_path, index=False)\n",
    "\n",
    "!du -sh {parquet_path}"
   ]
  },
  {
   "cell_type": "markdown",
   "id": "7bd4a561-ff1c-44f7-a95a-4bf6509de971",
   "metadata": {},
   "source": [
    "Here we're converting the CSVs to a parquet to make it easier to work with the data.\n",
    "\n",
    "We already define the schema and save the dataset with the values sorted to take advantage of some optimizations related to disk space usage."
   ]
  },
  {
   "cell_type": "code",
   "execution_count": 8,
   "id": "d3d8f275-bfe8-4227-8376-dc21223a376d",
   "metadata": {},
   "outputs": [],
   "source": [
    "# del df"
   ]
  },
  {
   "cell_type": "code",
   "execution_count": 9,
   "id": "45e04211-1b88-496b-ba01-5de764f5b9a6",
   "metadata": {},
   "outputs": [],
   "source": [
    "# !rm -r {csv_path}"
   ]
  }
 ],
 "metadata": {
  "kernelspec": {
   "display_name": "Python 3 (ipykernel)",
   "language": "python",
   "name": "python3"
  },
  "language_info": {
   "codemirror_mode": {
    "name": "ipython",
    "version": 3
   },
   "file_extension": ".py",
   "mimetype": "text/x-python",
   "name": "python",
   "nbconvert_exporter": "python",
   "pygments_lexer": "ipython3",
   "version": "3.10.14"
  }
 },
 "nbformat": 4,
 "nbformat_minor": 5
}
