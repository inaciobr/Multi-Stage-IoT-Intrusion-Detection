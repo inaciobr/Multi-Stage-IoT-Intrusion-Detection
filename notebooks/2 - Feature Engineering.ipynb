{
 "cells": [
  {
   "cell_type": "markdown",
   "id": "c5437028-772d-4de9-ba3e-9c8cf526da5a",
   "metadata": {},
   "source": [
    "# Feature Engineering - CIC IoT 2023 Dataset for Cybersecurity Research\n",
    "\n",
    "[University of New Brunswick - Canadian Institute for Cybersecurity](https://www.unb.ca/cic/datasets/index.html)"
   ]
  },
  {
   "cell_type": "markdown",
   "id": "5b457145-4883-493d-8529-d478876e146f",
   "metadata": {},
   "source": [
    "# Imports"
   ]
  },
  {
   "cell_type": "code",
   "execution_count": 1,
   "id": "9b62cafe-bb7c-4a8f-bae3-b8811da5f6d3",
   "metadata": {},
   "outputs": [],
   "source": [
    "import os\n",
    "import sys\n",
    "\n",
    "import pandas as pd\n",
    "\n",
    "from IPython.display import HTML\n",
    "\n",
    "sys.path.append('../') "
   ]
  },
  {
   "cell_type": "markdown",
   "id": "b3fab2b8-8e34-4547-bd5a-c24b4d9bcc22",
   "metadata": {},
   "source": [
    "## Definitions"
   ]
  },
  {
   "cell_type": "code",
   "execution_count": 2,
   "id": "dbb661d8-10e1-4a09-81d4-a7c25310f7ba",
   "metadata": {},
   "outputs": [],
   "source": [
    "from utils import get_constants, get_balanced_weights, get_features_list\n",
    "\n",
    "constants = get_constants()\n",
    "\n",
    "parquet_path = constants['parquet_path']\n",
    "refined_parquet_path = constants['refined_parquet_path']\n",
    "\n",
    "features = constants['features']\n",
    "protocol_layer = constants['protocol_layer']\n",
    "protocol_layer_map = constants['protocol_layer_map']\n",
    "attack_category = constants['attack_category']\n",
    "attack_category_map = constants['attack_category_map']"
   ]
  },
  {
   "cell_type": "markdown",
   "id": "cfc051fc-325b-4574-8c92-0f5e8c317081",
   "metadata": {},
   "source": [
    "# Feature Engineering"
   ]
  },
  {
   "cell_type": "code",
   "execution_count": 35,
   "id": "f330d85c-0e3c-4318-b6b6-055375e6c112",
   "metadata": {},
   "outputs": [],
   "source": [
    "df = pd.read_parquet(parquet_path)\n",
    "\n",
    "features_list = get_features_list(df, constants)\n",
    "\n",
    "original_columns_set = set(features_list)\n",
    "drop_columns_set = set()"
   ]
  },
  {
   "cell_type": "code",
   "execution_count": 36,
   "id": "5a0b109b-8544-4f66-b148-4f9ee5552193",
   "metadata": {},
   "outputs": [],
   "source": [
    "general_label_weights = get_balanced_weights(df, 'general_label')\n",
    "label_weights = get_balanced_weights(df, 'label')\n",
    "\n",
    "df_sample = df.sample(1_500_000, weights=general_label_weights, random_state=6958)"
   ]
  },
  {
   "cell_type": "code",
   "execution_count": 37,
   "id": "918f4169-82c2-4ee1-a619-d696d3ec9bdb",
   "metadata": {},
   "outputs": [
    {
     "name": "stdout",
     "output_type": "stream",
     "text": [
      "<class 'pandas.core.frame.DataFrame'>\n",
      "RangeIndex: 46686579 entries, 0 to 46686578\n",
      "Data columns (total 48 columns):\n",
      " #   Column           Dtype   \n",
      "---  ------           -----   \n",
      " 0   flow_duration    float32 \n",
      " 1   Header_Length    float32 \n",
      " 2   Protocol Type    float32 \n",
      " 3   Duration         float32 \n",
      " 4   Rate             float32 \n",
      " 5   Srate            float32 \n",
      " 6   Drate            float32 \n",
      " 7   fin_flag_number  bool    \n",
      " 8   syn_flag_number  bool    \n",
      " 9   rst_flag_number  bool    \n",
      " 10  psh_flag_number  bool    \n",
      " 11  ack_flag_number  bool    \n",
      " 12  ece_flag_number  bool    \n",
      " 13  cwr_flag_number  bool    \n",
      " 14  ack_count        float32 \n",
      " 15  syn_count        float32 \n",
      " 16  fin_count        float32 \n",
      " 17  urg_count        float32 \n",
      " 18  rst_count        float32 \n",
      " 19  HTTP             bool    \n",
      " 20  HTTPS            bool    \n",
      " 21  DNS              bool    \n",
      " 22  Telnet           bool    \n",
      " 23  SMTP             bool    \n",
      " 24  SSH              bool    \n",
      " 25  IRC              bool    \n",
      " 26  TCP              bool    \n",
      " 27  UDP              bool    \n",
      " 28  DHCP             bool    \n",
      " 29  ARP              bool    \n",
      " 30  ICMP             bool    \n",
      " 31  IPv              bool    \n",
      " 32  LLC              bool    \n",
      " 33  Tot sum          float32 \n",
      " 34  Min              float32 \n",
      " 35  Max              float32 \n",
      " 36  AVG              float32 \n",
      " 37  Std              float32 \n",
      " 38  Tot size         float32 \n",
      " 39  IAT              float32 \n",
      " 40  Number           float32 \n",
      " 41  Magnitue         float32 \n",
      " 42  Radius           float32 \n",
      " 43  Covariance       float32 \n",
      " 44  Variance         float32 \n",
      " 45  Weight           float32 \n",
      " 46  label            category\n",
      " 47  general_label    category\n",
      "dtypes: bool(21), category(2), float32(25)\n",
      "memory usage: 5.3 GB\n"
     ]
    }
   ],
   "source": [
    "df.info()"
   ]
  },
  {
   "cell_type": "markdown",
   "id": "1de7aa4d-69d7-490b-a8a6-03010675bc11",
   "metadata": {},
   "source": [
    "## Drop Features with low Variance"
   ]
  },
  {
   "cell_type": "markdown",
   "id": "ae9f294d-1e0a-422d-b919-94fcdad40372",
   "metadata": {},
   "source": [
    "Here we're going to try to identify features with very low variance (that are present in almost all reacords or in almost none of them) to drop, aiming to reduce the dimensionality of our data."
   ]
  },
  {
   "cell_type": "code",
   "execution_count": 11,
   "id": "ed50150f-0b5a-4ed2-a33c-0d848068e913",
   "metadata": {},
   "outputs": [],
   "source": [
    "from sklearn.feature_selection import VarianceThreshold"
   ]
  },
  {
   "cell_type": "code",
   "execution_count": 38,
   "id": "1e63974a-8d11-4874-a0f9-791359e16481",
   "metadata": {},
   "outputs": [
    {
     "name": "stdout",
     "output_type": "stream",
     "text": [
      "CPU times: user 840 ms, sys: 477 ms, total: 1.32 s\n",
      "Wall time: 1.31 s\n"
     ]
    },
    {
     "data": {
      "text/plain": [
       "{'ARP',\n",
       " 'DHCP',\n",
       " 'Drate',\n",
       " 'IRC',\n",
       " 'SMTP',\n",
       " 'Telnet',\n",
       " 'cwr_flag_number',\n",
       " 'ece_flag_number'}"
      ]
     },
     "execution_count": 38,
     "metadata": {},
     "output_type": "execute_result"
    }
   ],
   "source": [
    "%%time\n",
    "sel = VarianceThreshold(threshold=0.001)\n",
    "sel.fit(df_sample[features_list])\n",
    "\n",
    "drop_features_variances = {\n",
    "    feature\n",
    "    for feature, is_relevant in zip(features_list, sel.get_support())\n",
    "    if not is_relevant\n",
    "}\n",
    "\n",
    "drop_columns_set |= drop_features_variance\n",
    "\n",
    "drop_features_variance"
   ]
  },
  {
   "cell_type": "markdown",
   "id": "8325db6f-807c-4dcc-a593-1801e1c4de05",
   "metadata": {},
   "source": [
    "As we saw in the EDA, there are a couple protocols that are present in a very low number of records from the 46.7M that we have, so it's natural that even a simple feature selection algorithm would detect them here."
   ]
  },
  {
   "cell_type": "markdown",
   "id": "75d6ec91-6c33-42f5-92f9-340feebca7dc",
   "metadata": {},
   "source": [
    "# Save"
   ]
  },
  {
   "cell_type": "code",
   "execution_count": 26,
   "id": "e1abd66e-dc95-4487-947c-47cf633ff238",
   "metadata": {},
   "outputs": [
    {
     "data": {
      "text/html": [
       "\n",
       "<p>\n",
       "    In this process, we have <strong>dropped 8 features</strong>:\n",
       "    <ul>\n",
       "        <li>ARP</li><li>DHCP</li><li>Drate</li><li>IRC</li><li>SMTP</li><li>Telnet</li><li>cwr_flag_number</li><li>ece_flag_number</li>\n",
       "    </ul>\n",
       "</p>\n"
      ],
      "text/plain": [
       "<IPython.core.display.HTML object>"
      ]
     },
     "execution_count": 26,
     "metadata": {},
     "output_type": "execute_result"
    }
   ],
   "source": [
    "current_columns_set = set(df.columns)\n",
    "added_features = current_columns_set - original_columns_set\n",
    "\n",
    "HTML(f\"\"\"\n",
    "<p>\n",
    "    In this process, we have <strong>dropped {len(drop_columns_set)} features</strong>:\n",
    "    <ul>\n",
    "        {''.join(f\"<li>{feature_name}</li>\" for feature_name in sorted(drop_columns_set))}\n",
    "    </ul>\n",
    "</p>\n",
    "\"\"\")"
   ]
  },
  {
   "cell_type": "code",
   "execution_count": 29,
   "id": "f61a5e59-f893-40d8-9bdf-833ccc580cf4",
   "metadata": {},
   "outputs": [
    {
     "name": "stdout",
     "output_type": "stream",
     "text": [
      "<class 'pandas.core.frame.DataFrame'>\n",
      "RangeIndex: 46686579 entries, 0 to 46686578\n",
      "Data columns (total 40 columns):\n",
      " #   Column           Dtype   \n",
      "---  ------           -----   \n",
      " 0   flow_duration    float32 \n",
      " 1   Header_Length    float32 \n",
      " 2   Protocol Type    float32 \n",
      " 3   Duration         float32 \n",
      " 4   Rate             float32 \n",
      " 5   Srate            float32 \n",
      " 6   fin_flag_number  bool    \n",
      " 7   syn_flag_number  bool    \n",
      " 8   rst_flag_number  bool    \n",
      " 9   psh_flag_number  bool    \n",
      " 10  ack_flag_number  bool    \n",
      " 11  ack_count        float32 \n",
      " 12  syn_count        float32 \n",
      " 13  fin_count        float32 \n",
      " 14  urg_count        float32 \n",
      " 15  rst_count        float32 \n",
      " 16  HTTP             bool    \n",
      " 17  HTTPS            bool    \n",
      " 18  DNS              bool    \n",
      " 19  SSH              bool    \n",
      " 20  TCP              bool    \n",
      " 21  UDP              bool    \n",
      " 22  ICMP             bool    \n",
      " 23  IPv              bool    \n",
      " 24  LLC              bool    \n",
      " 25  Tot sum          float32 \n",
      " 26  Min              float32 \n",
      " 27  Max              float32 \n",
      " 28  AVG              float32 \n",
      " 29  Std              float32 \n",
      " 30  Tot size         float32 \n",
      " 31  IAT              float32 \n",
      " 32  Number           float32 \n",
      " 33  Magnitue         float32 \n",
      " 34  Radius           float32 \n",
      " 35  Covariance       float32 \n",
      " 36  Variance         float32 \n",
      " 37  Weight           float32 \n",
      " 38  label            category\n",
      " 39  general_label    category\n",
      "dtypes: bool(14), category(2), float32(24)\n",
      "memory usage: 4.9 GB\n"
     ]
    }
   ],
   "source": [
    "refined_df = df.drop(columns=drop_columns_set)\n",
    "\n",
    "refined_df.info()"
   ]
  },
  {
   "cell_type": "code",
   "execution_count": 30,
   "id": "01ffc687-c56d-4f7e-a1b4-7576bff1a4f3",
   "metadata": {},
   "outputs": [
    {
     "name": "stdout",
     "output_type": "stream",
     "text": [
      "958M\t/var/fasttmp/bruno_dsn/unb_cic_ds_refined.parquet\n"
     ]
    }
   ],
   "source": [
    "refined_df.to_parquet(refined_parquet_path)\n",
    "\n",
    "!du -sh {refined_parquet_path}"
   ]
  }
 ],
 "metadata": {
  "kernelspec": {
   "display_name": "Python 3 (ipykernel)",
   "language": "python",
   "name": "python3"
  },
  "language_info": {
   "codemirror_mode": {
    "name": "ipython",
    "version": 3
   },
   "file_extension": ".py",
   "mimetype": "text/x-python",
   "name": "python",
   "nbconvert_exporter": "python",
   "pygments_lexer": "ipython3",
   "version": "3.10.14"
  }
 },
 "nbformat": 4,
 "nbformat_minor": 5
}
