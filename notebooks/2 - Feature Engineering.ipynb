{
 "cells": [
  {
   "cell_type": "markdown",
   "id": "7398f7a2-0a66-428a-9ddb-2a3ce5d1e4df",
   "metadata": {},
   "source": [
    "This notebook aims to identify possible feature engineering processes we can do before running our models."
   ]
  },
  {
   "cell_type": "markdown",
   "id": "5b457145-4883-493d-8529-d478876e146f",
   "metadata": {},
   "source": [
    "# Imports"
   ]
  },
  {
   "cell_type": "code",
   "execution_count": 1,
   "id": "9b62cafe-bb7c-4a8f-bae3-b8811da5f6d3",
   "metadata": {},
   "outputs": [],
   "source": [
    "import os\n",
    "import sys\n",
    "\n",
    "import numpy as np\n",
    "import pandas as pd\n",
    "\n",
    "from sklearn.model_selection import train_test_split\n",
    "from sklearn.feature_selection import VarianceThreshold\n",
    "\n",
    "from IPython.display import HTML\n",
    "\n",
    "sys.path.append('../')"
   ]
  },
  {
   "cell_type": "markdown",
   "id": "b3fab2b8-8e34-4547-bd5a-c24b4d9bcc22",
   "metadata": {},
   "source": [
    "## Definitions"
   ]
  },
  {
   "cell_type": "code",
   "execution_count": 2,
   "id": "dbb661d8-10e1-4a09-81d4-a7c25310f7ba",
   "metadata": {},
   "outputs": [],
   "source": [
    "import utils\n",
    "import model_utils\n",
    "import visualization as viz\n",
    "\n",
    "constants = utils.get_constants()\n",
    "seed = constants['seed']\n",
    "\n",
    "parquet_path = constants['parquet_path']\n",
    "train_parquet_path = constants['train_parquet_path']\n",
    "test_parquet_path = constants['test_parquet_path']\n",
    "\n",
    "features = constants['features']\n",
    "target_columns = constants['target_columns']\n",
    "protocol_layer = constants['protocol_layer']\n",
    "protocol_layer_map = constants['protocol_layer_map']\n",
    "attack_category = constants['attack_category']\n",
    "attack_category_map = constants['attack_category_map']"
   ]
  },
  {
   "cell_type": "markdown",
   "id": "cfc051fc-325b-4574-8c92-0f5e8c317081",
   "metadata": {},
   "source": [
    "# Feature Engineering"
   ]
  },
  {
   "cell_type": "code",
   "execution_count": 3,
   "id": "f330d85c-0e3c-4318-b6b6-055375e6c112",
   "metadata": {},
   "outputs": [],
   "source": [
    "df = pd.read_parquet(parquet_path)\n",
    "\n",
    "features_list = utils.get_features_list(df)\n",
    "\n",
    "original_columns_set = set(features_list) | set(target_columns)\n",
    "drop_columns_set = set()\n",
    "add_columns_set = set()"
   ]
  },
  {
   "cell_type": "code",
   "execution_count": 4,
   "id": "5a0b109b-8544-4f66-b148-4f9ee5552193",
   "metadata": {},
   "outputs": [],
   "source": [
    "balanced_weights = model_utils.get_balanced_weights(df['general_label'])\n",
    "\n",
    "df_sample = df.sample(1_000_000, weights=df.general_label.map(balanced_weights), random_state=seed)"
   ]
  },
  {
   "cell_type": "code",
   "execution_count": 5,
   "id": "918f4169-82c2-4ee1-a619-d696d3ec9bdb",
   "metadata": {},
   "outputs": [
    {
     "name": "stdout",
     "output_type": "stream",
     "text": [
      "<class 'pandas.core.frame.DataFrame'>\n",
      "RangeIndex: 46686579 entries, 0 to 46686578\n",
      "Data columns (total 48 columns):\n",
      " #   Column           Dtype   \n",
      "---  ------           -----   \n",
      " 0   flow_duration    float32 \n",
      " 1   Header_Length    float32 \n",
      " 2   Protocol Type    float32 \n",
      " 3   Duration         float32 \n",
      " 4   Rate             float32 \n",
      " 5   Srate            float32 \n",
      " 6   Drate            float32 \n",
      " 7   fin_flag_number  bool    \n",
      " 8   syn_flag_number  bool    \n",
      " 9   rst_flag_number  bool    \n",
      " 10  psh_flag_number  bool    \n",
      " 11  ack_flag_number  bool    \n",
      " 12  ece_flag_number  bool    \n",
      " 13  cwr_flag_number  bool    \n",
      " 14  ack_count        float32 \n",
      " 15  syn_count        float32 \n",
      " 16  fin_count        float32 \n",
      " 17  urg_count        float32 \n",
      " 18  rst_count        float32 \n",
      " 19  HTTP             bool    \n",
      " 20  HTTPS            bool    \n",
      " 21  DNS              bool    \n",
      " 22  Telnet           bool    \n",
      " 23  SMTP             bool    \n",
      " 24  SSH              bool    \n",
      " 25  IRC              bool    \n",
      " 26  TCP              bool    \n",
      " 27  UDP              bool    \n",
      " 28  DHCP             bool    \n",
      " 29  ARP              bool    \n",
      " 30  ICMP             bool    \n",
      " 31  IPv              bool    \n",
      " 32  LLC              bool    \n",
      " 33  Tot sum          float32 \n",
      " 34  Min              float32 \n",
      " 35  Max              float32 \n",
      " 36  AVG              float32 \n",
      " 37  Std              float32 \n",
      " 38  Tot size         float32 \n",
      " 39  IAT              float32 \n",
      " 40  Number           float32 \n",
      " 41  Magnitue         float32 \n",
      " 42  Radius           float32 \n",
      " 43  Covariance       float32 \n",
      " 44  Variance         float32 \n",
      " 45  Weight           float32 \n",
      " 46  label            category\n",
      " 47  general_label    category\n",
      "dtypes: bool(21), category(2), float32(25)\n",
      "memory usage: 5.3 GB\n"
     ]
    }
   ],
   "source": [
    "df.info()"
   ]
  },
  {
   "cell_type": "markdown",
   "id": "1de7aa4d-69d7-490b-a8a6-03010675bc11",
   "metadata": {},
   "source": [
    "## Low Variance Features"
   ]
  },
  {
   "cell_type": "markdown",
   "id": "ae9f294d-1e0a-422d-b919-94fcdad40372",
   "metadata": {},
   "source": [
    "Here we're going to try to identify features with very low variance (that are present in almost all reacords or in almost none of them) to drop, aiming to simplify our dataset with a lower dimensionality."
   ]
  },
  {
   "cell_type": "code",
   "execution_count": 6,
   "id": "1e63974a-8d11-4874-a0f9-791359e16481",
   "metadata": {},
   "outputs": [
    {
     "name": "stdout",
     "output_type": "stream",
     "text": [
      "CPU times: user 758 ms, sys: 546 ms, total: 1.3 s\n",
      "Wall time: 1.3 s\n"
     ]
    },
    {
     "data": {
      "text/plain": [
       "{'ARP',\n",
       " 'DHCP',\n",
       " 'Drate',\n",
       " 'IRC',\n",
       " 'SMTP',\n",
       " 'Telnet',\n",
       " 'cwr_flag_number',\n",
       " 'ece_flag_number'}"
      ]
     },
     "execution_count": 6,
     "metadata": {},
     "output_type": "execute_result"
    }
   ],
   "source": [
    "%%time\n",
    "sel = VarianceThreshold(threshold=0.001)\n",
    "sel.fit(df_sample[features_list])\n",
    "\n",
    "drop_features_variance = {\n",
    "    feature\n",
    "    for feature, is_relevant in zip(features_list, sel.get_support())\n",
    "    if not is_relevant\n",
    "}\n",
    "\n",
    "drop_columns_set |= drop_features_variance\n",
    "\n",
    "drop_features_variance"
   ]
  },
  {
   "cell_type": "markdown",
   "id": "8325db6f-807c-4dcc-a593-1801e1c4de05",
   "metadata": {},
   "source": [
    "As we saw in the EDA, there are a couple protocols that are present in a very low number of records from the 46.7M that we have, so it's natural that even a simple feature selection algorithm would detect them here."
   ]
  },
  {
   "cell_type": "markdown",
   "id": "e17d163f-d450-4125-b10c-9dcbaa89fc26",
   "metadata": {},
   "source": [
    "## Correlated Features"
   ]
  },
  {
   "cell_type": "code",
   "execution_count": 7,
   "id": "ef7b90c2-f300-49f0-b8f2-e9f6443f71ba",
   "metadata": {},
   "outputs": [
    {
     "name": "stdout",
     "output_type": "stream",
     "text": [
      "CPU times: user 41.2 s, sys: 331 ms, total: 41.6 s\n",
      "Wall time: 41.6 s\n"
     ]
    },
    {
     "data": {
      "text/html": [
       "<div>\n",
       "<style scoped>\n",
       "    .dataframe tbody tr th:only-of-type {\n",
       "        vertical-align: middle;\n",
       "    }\n",
       "\n",
       "    .dataframe tbody tr th {\n",
       "        vertical-align: top;\n",
       "    }\n",
       "\n",
       "    .dataframe thead th {\n",
       "        text-align: right;\n",
       "    }\n",
       "</style>\n",
       "<table border=\"1\" class=\"dataframe\">\n",
       "  <thead>\n",
       "    <tr style=\"text-align: right;\">\n",
       "      <th></th>\n",
       "      <th>Correlated Features</th>\n",
       "    </tr>\n",
       "  </thead>\n",
       "  <tbody>\n",
       "    <tr>\n",
       "      <th>Srate</th>\n",
       "      <td>[Rate]</td>\n",
       "    </tr>\n",
       "    <tr>\n",
       "      <th>LLC</th>\n",
       "      <td>[IPv]</td>\n",
       "    </tr>\n",
       "    <tr>\n",
       "      <th>Magnitue</th>\n",
       "      <td>[AVG]</td>\n",
       "    </tr>\n",
       "    <tr>\n",
       "      <th>Weight</th>\n",
       "      <td>[Number]</td>\n",
       "    </tr>\n",
       "  </tbody>\n",
       "</table>\n",
       "</div>"
      ],
      "text/plain": [
       "         Correlated Features\n",
       "Srate                 [Rate]\n",
       "LLC                    [IPv]\n",
       "Magnitue               [AVG]\n",
       "Weight              [Number]"
      ]
     },
     "execution_count": 7,
     "metadata": {},
     "output_type": "execute_result"
    }
   ],
   "source": [
    "%%time\n",
    "corr = df_sample.corr(method='spearman', numeric_only=True)\n",
    "superior_triangle_mask = np.arange(len(corr)) > np.arange(len(corr)).reshape(-1, 1)\n",
    "corr.values[~superior_triangle_mask] = 0\n",
    "\n",
    "correlated_features = corr.apply(lambda row: [\n",
    "    col_name\n",
    "    for col_name, value\n",
    "    in row.items()\n",
    "    if abs(value) >= .999\n",
    "])\n",
    "\n",
    "correlated_features[correlated_features.map(len) >= 1].to_frame(name='Correlated Features')"
   ]
  },
  {
   "cell_type": "code",
   "execution_count": 8,
   "id": "cf89081e-d47c-4e04-94ca-8895fb04297c",
   "metadata": {},
   "outputs": [
    {
     "data": {
      "text/plain": [
       "{'LLC', 'Magnitue', 'Srate', 'Weight'}"
      ]
     },
     "execution_count": 8,
     "metadata": {},
     "output_type": "execute_result"
    }
   ],
   "source": [
    "drop_correlated_features = set(correlated_features[correlated_features.map(len) >= 1].index)\n",
    "\n",
    "drop_columns_set |= drop_correlated_features\n",
    "\n",
    "drop_correlated_features"
   ]
  },
  {
   "cell_type": "markdown",
   "id": "e176d2e1-674c-4ae4-af7d-b441bb51a247",
   "metadata": {},
   "source": [
    "We can double check that in the whole DataFrame those features are always the same:"
   ]
  },
  {
   "cell_type": "code",
   "execution_count": 9,
   "id": "446f8700-6333-4a4d-bd91-f8e6c8bc7d75",
   "metadata": {},
   "outputs": [
    {
     "data": {
      "text/html": [
       "\n",
       "<p>\n",
       "Records where <code>Srate</code> is different from <code>Rate</code>: <strong>0.0 (0.0%)</strong>.<br>Records where <code>Magnitue</code> is different from <code>AVG</code>: <strong>46.7M (100.0%)</strong>.<br>Records where <code>Weight</code> is different from <code>Number</code>: <strong>46.7M (100.0%)</strong>.<br>Records where <code>LLC</code> is different from <code>IPv</code>: <strong>0.0 (0.0%)</strong>.<br>\n",
       "</p>\n"
      ],
      "text/plain": [
       "<IPython.core.display.HTML object>"
      ]
     },
     "metadata": {},
     "output_type": "display_data"
    }
   ],
   "source": [
    "def show_different_records(df, feature1, feature2):\n",
    "    return (\n",
    "        f\"Records where <code>{feature1}</code> is different from <code>{feature2}</code>: \"\n",
    "        f\"<strong>{viz.eng_formatter_full((df[feature1] != df[feature2]).sum(), len(df))}</strong>.\"\n",
    "        \"<br>\"\n",
    "    )\n",
    "\n",
    "display(HTML(f\"\"\"\n",
    "<p>\n",
    "{\n",
    "    ''.join(\n",
    "        show_different_records(df, feature, correlated_features[feature][0])\n",
    "        for feature in drop_correlated_features\n",
    "    )\n",
    "}\n",
    "</p>\n",
    "\"\"\"))"
   ]
  },
  {
   "cell_type": "markdown",
   "id": "9bb49485-a808-4860-b738-4c053228619c",
   "metadata": {},
   "source": [
    "We see that even though `Magnitue` and `AVG`, and `Weight` and `Number` are different, they have the same rank correlation, what means that for a tree based model, they would bring the same information. Since we're planning on improving metrics for tree based algorithms, we have chosen to drop all these features here."
   ]
  },
  {
   "cell_type": "markdown",
   "id": "76953e46-2982-41a9-8995-b102e8f3e88f",
   "metadata": {},
   "source": [
    "# Interpretable Features"
   ]
  },
  {
   "cell_type": "markdown",
   "id": "a9a722dc-9eac-414d-b605-2c724a556a0c",
   "metadata": {},
   "source": [
    "## Dropping Protocol Type"
   ]
  },
  {
   "cell_type": "markdown",
   "id": "b4d60ffb-04b8-447a-bd7b-42f54b31f7e6",
   "metadata": {},
   "source": [
    "In the original dataset, we have a feature called `Protocol Type`, which summarizes the protocols in the flow into a single numeric feature, but here we have a couple problems: first, since the features in each record come from an average of the windows in a flow, the `Protocol Type` ends up having a numeric type that doesn't really map back to the protocols, and second, as a numeric variable, it may be interpreted as an ordinal number, as if a protocol could have a reason for having a higher or lower value, but this isn't the case.\n",
    "\n",
    "For this reason, and since we understand that the protocol is already well defined by the boolean flags, we opted to drop this feature to prioritize the interpretability of the model and without sacrificing the expected results, although we recognize that since we're exchanging a single consolidated feature by 8 booleans, we may end up having a more complex model."
   ]
  },
  {
   "cell_type": "code",
   "execution_count": 10,
   "id": "7307db70-74f3-44cd-aeb8-bd3cc8f6fbc6",
   "metadata": {},
   "outputs": [],
   "source": [
    "df['Protocol Type'].value_counts()\n",
    "\n",
    "drop_columns_set |= {'Protocol Type'}"
   ]
  },
  {
   "cell_type": "markdown",
   "id": "251d9091-f2d0-4797-9599-083116f47c81",
   "metadata": {},
   "source": [
    "## Adding highest TCP/IP Layer"
   ]
  },
  {
   "cell_type": "markdown",
   "id": "02f68b01-ec8b-4003-be25-e6020bf2584a",
   "metadata": {},
   "source": [
    "Even though we have flags indicating the presence of each protocol, it's possible that for some attacks one important feature would be the information about the presence of *any* protocol of a given layer and not which specific protocol was present. This feature can help to simplify the resulting model and also to produce relevant information about how we could interpret the results."
   ]
  },
  {
   "cell_type": "code",
   "execution_count": 12,
   "id": "8c9b858b-497f-4b0e-9807-c106f7524119",
   "metadata": {},
   "outputs": [],
   "source": [
    "# %%time\n",
    "\n",
    "# df['highest_layer'] = 2\n",
    "\n",
    "# for i, (layer, protocols) in enumerate(reversed(protocol_layer.items())):\n",
    "#     df['highest_layer'] = np.where(df[protocols].sum(axis=1), 2 + i, df['highest_layer']).astype('uint8')\n",
    "\n",
    "# df['highest_layer'].value_counts().to_frame().sort_index()\n",
    "\n",
    "# add_columns_set |= {'highest_layer'}"
   ]
  },
  {
   "cell_type": "markdown",
   "id": "23030b66",
   "metadata": {},
   "source": [
    "## Adding Header Overhead"
   ]
  },
  {
   "cell_type": "code",
   "execution_count": 12,
   "id": "4d7dd92b",
   "metadata": {},
   "outputs": [],
   "source": [
    "# df['header_overhead'] = df['Header_Length'] / (df['Tot sum'] + df['Header_Length'])\n",
    "\n",
    "# add_columns_set |= {'header_overhead'}"
   ]
  },
  {
   "cell_type": "markdown",
   "id": "89fd5d7e",
   "metadata": {},
   "source": [
    "## Adding TCP Control Rate"
   ]
  },
  {
   "cell_type": "code",
   "execution_count": 13,
   "id": "000a2639",
   "metadata": {},
   "outputs": [],
   "source": [
    "# df['tcp_control_rate'] = (df[features['tcp_flag_counts']].sum(axis=1) / (df['flow_duration'] + 1e-6))\n",
    "\n",
    "# add_columns_set |= {'tcp_control_rate'}"
   ]
  },
  {
   "cell_type": "markdown",
   "id": "75d6ec91-6c33-42f5-92f9-340feebca7dc",
   "metadata": {},
   "source": [
    "# Save"
   ]
  },
  {
   "cell_type": "code",
   "execution_count": 13,
   "id": "e1abd66e-dc95-4487-947c-47cf633ff238",
   "metadata": {},
   "outputs": [
    {
     "data": {
      "text/html": [
       "\n",
       "<p>\n",
       "    In this process, we have <strong>dropped 13 features</strong>:\n",
       "    <ul>\n",
       "        <li>ARP</li><li>DHCP</li><li>Drate</li><li>IRC</li><li>LLC</li><li>Magnitue</li><li>Protocol Type</li><li>SMTP</li><li>Srate</li><li>Telnet</li><li>Weight</li><li>cwr_flag_number</li><li>ece_flag_number</li>\n",
       "    </ul>\n",
       "</p>\n",
       "<p>\n",
       "    And we have <strong>created 0 features</strong>:\n",
       "    <ul>\n",
       "        \n",
       "    </ul>\n",
       "</p>\n"
      ],
      "text/plain": [
       "<IPython.core.display.HTML object>"
      ]
     },
     "execution_count": 13,
     "metadata": {},
     "output_type": "execute_result"
    }
   ],
   "source": [
    "HTML(f\"\"\"\n",
    "<p>\n",
    "    In this process, we have <strong>dropped {len(drop_columns_set)} features</strong>:\n",
    "    <ul>\n",
    "        {''.join(f\"<li>{feature_name}</li>\" for feature_name in sorted(drop_columns_set))}\n",
    "    </ul>\n",
    "</p>\n",
    "<p>\n",
    "    And we have <strong>created {len(add_columns_set)} features</strong>:\n",
    "    <ul>\n",
    "        {''.join(f\"<li>{feature_name}</li>\" for feature_name in sorted(add_columns_set))}\n",
    "    </ul>\n",
    "</p>\n",
    "\"\"\")"
   ]
  },
  {
   "cell_type": "code",
   "execution_count": 14,
   "id": "f61a5e59-f893-40d8-9bdf-833ccc580cf4",
   "metadata": {},
   "outputs": [
    {
     "name": "stdout",
     "output_type": "stream",
     "text": [
      "<class 'pandas.core.frame.DataFrame'>\n",
      "RangeIndex: 46686579 entries, 0 to 46686578\n",
      "Data columns (total 35 columns):\n",
      " #   Column           Dtype   \n",
      "---  ------           -----   \n",
      " 0   flow_duration    float32 \n",
      " 1   Header_Length    float32 \n",
      " 2   Duration         float32 \n",
      " 3   Rate             float32 \n",
      " 4   fin_flag_number  bool    \n",
      " 5   syn_flag_number  bool    \n",
      " 6   rst_flag_number  bool    \n",
      " 7   psh_flag_number  bool    \n",
      " 8   ack_flag_number  bool    \n",
      " 9   ack_count        float32 \n",
      " 10  syn_count        float32 \n",
      " 11  fin_count        float32 \n",
      " 12  urg_count        float32 \n",
      " 13  rst_count        float32 \n",
      " 14  HTTP             bool    \n",
      " 15  HTTPS            bool    \n",
      " 16  DNS              bool    \n",
      " 17  SSH              bool    \n",
      " 18  TCP              bool    \n",
      " 19  UDP              bool    \n",
      " 20  ICMP             bool    \n",
      " 21  IPv              bool    \n",
      " 22  Tot sum          float32 \n",
      " 23  Min              float32 \n",
      " 24  Max              float32 \n",
      " 25  AVG              float32 \n",
      " 26  Std              float32 \n",
      " 27  Tot size         float32 \n",
      " 28  IAT              float32 \n",
      " 29  Number           float32 \n",
      " 30  Radius           float32 \n",
      " 31  Covariance       float32 \n",
      " 32  Variance         float32 \n",
      " 33  label            category\n",
      " 34  general_label    category\n",
      "dtypes: bool(13), category(2), float32(20)\n",
      "memory usage: 4.1 GB\n"
     ]
    }
   ],
   "source": [
    "refined_column = [\n",
    "    col\n",
    "    for col in df.columns\n",
    "    if col in original_columns_set and col not in drop_columns_set\n",
    "    or col in add_columns_set\n",
    "]\n",
    "\n",
    "df_refined = df[refined_column]\n",
    "\n",
    "df_refined.info()"
   ]
  },
  {
   "cell_type": "code",
   "execution_count": 15,
   "id": "677b12e3-8ef5-496b-9bf3-4fec4110b563",
   "metadata": {},
   "outputs": [
    {
     "data": {
      "text/html": [
       "\n",
       "<p>\n",
       "    We finish the Feature Engineering process with \n",
       "    <strong>33 features</strong>.\n",
       "</p>\n"
      ],
      "text/plain": [
       "<IPython.core.display.HTML object>"
      ]
     },
     "execution_count": 15,
     "metadata": {},
     "output_type": "execute_result"
    }
   ],
   "source": [
    "HTML(f\"\"\"\n",
    "<p>\n",
    "    We finish the Feature Engineering process with \n",
    "    <strong>{len(utils.get_features_list(df_refined))} features</strong>.\n",
    "</p>\n",
    "\"\"\")"
   ]
  },
  {
   "cell_type": "code",
   "execution_count": 16,
   "id": "01ffc687-c56d-4f7e-a1b4-7576bff1a4f3",
   "metadata": {},
   "outputs": [
    {
     "name": "stdout",
     "output_type": "stream",
     "text": [
      "Train size: 37.3M (80.0%)\n",
      "Test size: 9.3M (20.0%)\n",
      "580M\t/var/fasttmp/dsn/unb_cic_ds_train.parquet\n",
      "160M\t/var/fasttmp/dsn/unb_cic_ds_test.parquet\n",
      "CPU times: user 2min 22s, sys: 10.6 s, total: 2min 32s\n",
      "Wall time: 2min 27s\n"
     ]
    }
   ],
   "source": [
    "%%time\n",
    "\n",
    "df_refined_train, df_refined_test = train_test_split(df_refined, train_size=0.80, random_state=seed)\n",
    "\n",
    "print(f\"Train size: {viz.eng_formatter_full(len(df_refined_train), len(df))}\")\n",
    "print(f\"Test size: {viz.eng_formatter_full(len(df_refined_test), len(df))}\")\n",
    "\n",
    "df_refined_train.sort_index().reset_index(drop=True).to_parquet(train_parquet_path)\n",
    "df_refined_test.sort_index().reset_index(drop=True).to_parquet(test_parquet_path)\n",
    "\n",
    "!du -sh {train_parquet_path}\n",
    "!du -sh {test_parquet_path}"
   ]
  }
 ],
 "metadata": {
  "kernelspec": {
   "display_name": "Python 3 (ipykernel)",
   "language": "python",
   "name": "python3"
  },
  "language_info": {
   "codemirror_mode": {
    "name": "ipython",
    "version": 3
   },
   "file_extension": ".py",
   "mimetype": "text/x-python",
   "name": "python",
   "nbconvert_exporter": "python",
   "pygments_lexer": "ipython3",
   "version": "3.12.4"
  }
 },
 "nbformat": 4,
 "nbformat_minor": 5
}
