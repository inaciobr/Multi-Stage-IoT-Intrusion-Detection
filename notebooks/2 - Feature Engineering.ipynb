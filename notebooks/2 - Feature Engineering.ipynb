{
 "cells": [
  {
   "cell_type": "markdown",
   "id": "c5437028-772d-4de9-ba3e-9c8cf526da5a",
   "metadata": {},
   "source": [
    "# Feature Engineering - CIC IoT 2023 Dataset for Cybersecurity Research\n",
    "\n",
    "[University of New Brunswick - Canadian Institute for Cybersecurity](https://www.unb.ca/cic/datasets/index.html)"
   ]
  },
  {
   "cell_type": "markdown",
   "id": "7398f7a2-0a66-428a-9ddb-2a3ce5d1e4df",
   "metadata": {},
   "source": [
    "This notebook aims to identify possible feature engineering processes we can do before running our models."
   ]
  },
  {
   "cell_type": "markdown",
   "id": "5b457145-4883-493d-8529-d478876e146f",
   "metadata": {},
   "source": [
    "# Imports"
   ]
  },
  {
   "cell_type": "code",
   "execution_count": 10,
   "id": "9b62cafe-bb7c-4a8f-bae3-b8811da5f6d3",
   "metadata": {},
   "outputs": [],
   "source": [
    "import os\n",
    "import sys\n",
    "\n",
    "import numpy as np\n",
    "import pandas as pd\n",
    "\n",
    "from IPython.display import HTML\n",
    "\n",
    "sys.path.append('../')"
   ]
  },
  {
   "cell_type": "code",
   "execution_count": 2,
   "id": "ed50150f-0b5a-4ed2-a33c-0d848068e913",
   "metadata": {},
   "outputs": [],
   "source": [
    "from sklearn.feature_selection import VarianceThreshold"
   ]
  },
  {
   "cell_type": "markdown",
   "id": "b3fab2b8-8e34-4547-bd5a-c24b4d9bcc22",
   "metadata": {},
   "source": [
    "## Definitions"
   ]
  },
  {
   "cell_type": "code",
   "execution_count": 54,
   "id": "dbb661d8-10e1-4a09-81d4-a7c25310f7ba",
   "metadata": {},
   "outputs": [],
   "source": [
    "import utils\n",
    "import model_utils\n",
    "import visualization as viz\n",
    "\n",
    "constants = utils.get_constants()\n",
    "seed = constants['seed']\n",
    "\n",
    "parquet_path = constants['parquet_path']\n",
    "refined_parquet_path = constants['refined_parquet_path']\n",
    "\n",
    "features = constants['features']\n",
    "target_columns = constants['target_columns']\n",
    "protocol_layer = constants['protocol_layer']\n",
    "protocol_layer_map = constants['protocol_layer_map']\n",
    "attack_category = constants['attack_category']\n",
    "attack_category_map = constants['attack_category_map']"
   ]
  },
  {
   "cell_type": "markdown",
   "id": "cfc051fc-325b-4574-8c92-0f5e8c317081",
   "metadata": {},
   "source": [
    "# Feature Engineering"
   ]
  },
  {
   "cell_type": "code",
   "execution_count": 4,
   "id": "f330d85c-0e3c-4318-b6b6-055375e6c112",
   "metadata": {},
   "outputs": [],
   "source": [
    "df = pd.read_parquet(parquet_path)\n",
    "\n",
    "features_list = utils.get_features_list(df)\n",
    "\n",
    "original_columns_set = set(features_list)\n",
    "drop_columns_set = set()"
   ]
  },
  {
   "cell_type": "code",
   "execution_count": 5,
   "id": "5a0b109b-8544-4f66-b148-4f9ee5552193",
   "metadata": {},
   "outputs": [],
   "source": [
    "balanced_weights = model_utils.get_balanced_weights(df['general_label'])\n",
    "\n",
    "df_sample = df.sample(1_000_000, weights=df.general_label.map(balanced_weights), random_state=seed)"
   ]
  },
  {
   "cell_type": "code",
   "execution_count": 6,
   "id": "918f4169-82c2-4ee1-a619-d696d3ec9bdb",
   "metadata": {},
   "outputs": [
    {
     "name": "stdout",
     "output_type": "stream",
     "text": [
      "<class 'pandas.core.frame.DataFrame'>\n",
      "RangeIndex: 46686579 entries, 0 to 46686578\n",
      "Data columns (total 48 columns):\n",
      " #   Column           Dtype   \n",
      "---  ------           -----   \n",
      " 0   flow_duration    float32 \n",
      " 1   Header_Length    float32 \n",
      " 2   Protocol Type    float32 \n",
      " 3   Duration         float32 \n",
      " 4   Rate             float32 \n",
      " 5   Srate            float32 \n",
      " 6   Drate            float32 \n",
      " 7   fin_flag_number  bool    \n",
      " 8   syn_flag_number  bool    \n",
      " 9   rst_flag_number  bool    \n",
      " 10  psh_flag_number  bool    \n",
      " 11  ack_flag_number  bool    \n",
      " 12  ece_flag_number  bool    \n",
      " 13  cwr_flag_number  bool    \n",
      " 14  ack_count        float32 \n",
      " 15  syn_count        float32 \n",
      " 16  fin_count        float32 \n",
      " 17  urg_count        float32 \n",
      " 18  rst_count        float32 \n",
      " 19  HTTP             bool    \n",
      " 20  HTTPS            bool    \n",
      " 21  DNS              bool    \n",
      " 22  Telnet           bool    \n",
      " 23  SMTP             bool    \n",
      " 24  SSH              bool    \n",
      " 25  IRC              bool    \n",
      " 26  TCP              bool    \n",
      " 27  UDP              bool    \n",
      " 28  DHCP             bool    \n",
      " 29  ARP              bool    \n",
      " 30  ICMP             bool    \n",
      " 31  IPv              bool    \n",
      " 32  LLC              bool    \n",
      " 33  Tot sum          float32 \n",
      " 34  Min              float32 \n",
      " 35  Max              float32 \n",
      " 36  AVG              float32 \n",
      " 37  Std              float32 \n",
      " 38  Tot size         float32 \n",
      " 39  IAT              float32 \n",
      " 40  Number           float32 \n",
      " 41  Magnitue         float32 \n",
      " 42  Radius           float32 \n",
      " 43  Covariance       float32 \n",
      " 44  Variance         float32 \n",
      " 45  Weight           float32 \n",
      " 46  label            category\n",
      " 47  general_label    category\n",
      "dtypes: bool(21), category(2), float32(25)\n",
      "memory usage: 5.3 GB\n"
     ]
    }
   ],
   "source": [
    "df.info()"
   ]
  },
  {
   "cell_type": "markdown",
   "id": "1de7aa4d-69d7-490b-a8a6-03010675bc11",
   "metadata": {},
   "source": [
    "## Low Variance Features"
   ]
  },
  {
   "cell_type": "markdown",
   "id": "ae9f294d-1e0a-422d-b919-94fcdad40372",
   "metadata": {},
   "source": [
    "Here we're going to try to identify features with very low variance (that are present in almost all reacords or in almost none of them) to drop, aiming to simplify our dataset with a lower dimensionality."
   ]
  },
  {
   "cell_type": "code",
   "execution_count": 7,
   "id": "1e63974a-8d11-4874-a0f9-791359e16481",
   "metadata": {},
   "outputs": [
    {
     "name": "stdout",
     "output_type": "stream",
     "text": [
      "CPU times: user 645 ms, sys: 345 ms, total: 990 ms\n",
      "Wall time: 989 ms\n"
     ]
    },
    {
     "data": {
      "text/plain": [
       "{'ARP',\n",
       " 'DHCP',\n",
       " 'Drate',\n",
       " 'IRC',\n",
       " 'SMTP',\n",
       " 'Telnet',\n",
       " 'cwr_flag_number',\n",
       " 'ece_flag_number'}"
      ]
     },
     "execution_count": 7,
     "metadata": {},
     "output_type": "execute_result"
    }
   ],
   "source": [
    "%%time\n",
    "sel = VarianceThreshold(threshold=0.001)\n",
    "sel.fit(df_sample[features_list])\n",
    "\n",
    "drop_features_variance = {\n",
    "    feature\n",
    "    for feature, is_relevant in zip(features_list, sel.get_support())\n",
    "    if not is_relevant\n",
    "}\n",
    "\n",
    "drop_columns_set |= drop_features_variance\n",
    "\n",
    "drop_features_variance"
   ]
  },
  {
   "cell_type": "markdown",
   "id": "8325db6f-807c-4dcc-a593-1801e1c4de05",
   "metadata": {},
   "source": [
    "As we saw in the EDA, there are a couple protocols that are present in a very low number of records from the 46.7M that we have, so it's natural that even a simple feature selection algorithm would detect them here."
   ]
  },
  {
   "cell_type": "markdown",
   "id": "e17d163f-d450-4125-b10c-9dcbaa89fc26",
   "metadata": {},
   "source": [
    "## Correlated Features"
   ]
  },
  {
   "cell_type": "code",
   "execution_count": 49,
   "id": "ef7b90c2-f300-49f0-b8f2-e9f6443f71ba",
   "metadata": {},
   "outputs": [
    {
     "name": "stdout",
     "output_type": "stream",
     "text": [
      "CPU times: user 1min 8s, sys: 399 ms, total: 1min 8s\n",
      "Wall time: 1min 8s\n"
     ]
    },
    {
     "data": {
      "text/html": [
       "<div>\n",
       "<style scoped>\n",
       "    .dataframe tbody tr th:only-of-type {\n",
       "        vertical-align: middle;\n",
       "    }\n",
       "\n",
       "    .dataframe tbody tr th {\n",
       "        vertical-align: top;\n",
       "    }\n",
       "\n",
       "    .dataframe thead th {\n",
       "        text-align: right;\n",
       "    }\n",
       "</style>\n",
       "<table border=\"1\" class=\"dataframe\">\n",
       "  <thead>\n",
       "    <tr style=\"text-align: right;\">\n",
       "      <th></th>\n",
       "      <th>Correlated Features</th>\n",
       "    </tr>\n",
       "  </thead>\n",
       "  <tbody>\n",
       "    <tr>\n",
       "      <th>Rate</th>\n",
       "      <td>[Srate]</td>\n",
       "    </tr>\n",
       "    <tr>\n",
       "      <th>Srate</th>\n",
       "      <td>[Rate]</td>\n",
       "    </tr>\n",
       "    <tr>\n",
       "      <th>IPv</th>\n",
       "      <td>[LLC]</td>\n",
       "    </tr>\n",
       "    <tr>\n",
       "      <th>LLC</th>\n",
       "      <td>[IPv]</td>\n",
       "    </tr>\n",
       "    <tr>\n",
       "      <th>AVG</th>\n",
       "      <td>[Magnitue]</td>\n",
       "    </tr>\n",
       "    <tr>\n",
       "      <th>Number</th>\n",
       "      <td>[Weight]</td>\n",
       "    </tr>\n",
       "    <tr>\n",
       "      <th>Magnitue</th>\n",
       "      <td>[AVG]</td>\n",
       "    </tr>\n",
       "    <tr>\n",
       "      <th>Weight</th>\n",
       "      <td>[Number]</td>\n",
       "    </tr>\n",
       "  </tbody>\n",
       "</table>\n",
       "</div>"
      ],
      "text/plain": [
       "         Correlated Features\n",
       "Rate                 [Srate]\n",
       "Srate                 [Rate]\n",
       "IPv                    [LLC]\n",
       "LLC                    [IPv]\n",
       "AVG               [Magnitue]\n",
       "Number              [Weight]\n",
       "Magnitue               [AVG]\n",
       "Weight              [Number]"
      ]
     },
     "execution_count": 49,
     "metadata": {},
     "output_type": "execute_result"
    }
   ],
   "source": [
    "%%time\n",
    "corr = df_sample.corr(method='spearman', numeric_only=True)\n",
    "corr.values[range(len(corr)), range(len(corr))] = 0\n",
    "\n",
    "correlated_features = corr.apply(lambda row: [\n",
    "    col_name\n",
    "    for col_name, value\n",
    "    in row.items()\n",
    "    if value >= .999\n",
    "])\n",
    "\n",
    "correlated_features[correlated_features.map(len) >= 1].to_frame(name='Correlated Features')"
   ]
  },
  {
   "cell_type": "markdown",
   "id": "e176d2e1-674c-4ae4-af7d-b441bb51a247",
   "metadata": {},
   "source": [
    "We can double check that in the whole DataFrame, those features are always the same:"
   ]
  },
  {
   "cell_type": "code",
   "execution_count": 76,
   "id": "446f8700-6333-4a4d-bd91-f8e6c8bc7d75",
   "metadata": {},
   "outputs": [
    {
     "data": {
      "text/html": [
       "\n",
       "<p>\n",
       "    Records where <code>Rate</code> is different from <code>Srate</code>: <strong>0.0 (0.0%)</strong>.<br>\n",
       "    Records where <code>IPv</code> is different from <code>LLC</code>: <strong>0.0 (0.0%)</strong>.<br>\n",
       "</p>\n"
      ],
      "text/plain": [
       "<IPython.core.display.HTML object>"
      ]
     },
     "metadata": {},
     "output_type": "display_data"
    }
   ],
   "source": [
    "def show_different_records(df, feature1, feature2):\n",
    "    return (\n",
    "        f\"Records where <code>{feature1}</code> is different from <code>{feature2}</code>: \"\n",
    "        f\"<strong>{viz.eng_formatter_full((df[feature1] != df[feature2]).sum(), len(df))}</strong>.\"\n",
    "        \"<br>\"\n",
    "    )\n",
    "\n",
    "display(HTML(f\"\"\"\n",
    "<p>\n",
    "    {show_different_records(df, 'Rate', 'Srate')}\n",
    "    {show_different_records(df, 'IPv', 'LLC')}\n",
    "</p>\n",
    "\"\"\"))"
   ]
  },
  {
   "cell_type": "code",
   "execution_count": 64,
   "id": "cf89081e-d47c-4e04-94ca-8895fb04297c",
   "metadata": {},
   "outputs": [
    {
     "data": {
      "text/plain": [
       "{'LLC', 'Srate'}"
      ]
     },
     "execution_count": 64,
     "metadata": {},
     "output_type": "execute_result"
    }
   ],
   "source": [
    "drop_correlated_features = {\n",
    "    'Srate',\n",
    "    'LLC',\n",
    "}\n",
    "\n",
    "drop_columns_set |= drop_correlated_features\n",
    "\n",
    "drop_correlated_features"
   ]
  },
  {
   "cell_type": "markdown",
   "id": "75d6ec91-6c33-42f5-92f9-340feebca7dc",
   "metadata": {},
   "source": [
    "# Save"
   ]
  },
  {
   "cell_type": "code",
   "execution_count": 65,
   "id": "e1abd66e-dc95-4487-947c-47cf633ff238",
   "metadata": {},
   "outputs": [
    {
     "data": {
      "text/html": [
       "\n",
       "<p>\n",
       "    In this process, we have <strong>dropped 10 features</strong>:\n",
       "    <ul>\n",
       "        <li>ARP</li><li>DHCP</li><li>Drate</li><li>IRC</li><li>LLC</li><li>SMTP</li><li>Srate</li><li>Telnet</li><li>cwr_flag_number</li><li>ece_flag_number</li>\n",
       "    </ul>\n",
       "</p>\n"
      ],
      "text/plain": [
       "<IPython.core.display.HTML object>"
      ]
     },
     "execution_count": 65,
     "metadata": {},
     "output_type": "execute_result"
    }
   ],
   "source": [
    "added_features = set(df.columns)- original_columns_set\n",
    "\n",
    "HTML(f\"\"\"\n",
    "<p>\n",
    "    In this process, we have <strong>dropped {len(drop_columns_set)} features</strong>:\n",
    "    <ul>\n",
    "        {''.join(f\"<li>{feature_name}</li>\" for feature_name in sorted(drop_columns_set))}\n",
    "    </ul>\n",
    "</p>\n",
    "\"\"\")"
   ]
  },
  {
   "cell_type": "code",
   "execution_count": 66,
   "id": "f61a5e59-f893-40d8-9bdf-833ccc580cf4",
   "metadata": {},
   "outputs": [
    {
     "name": "stdout",
     "output_type": "stream",
     "text": [
      "<class 'pandas.core.frame.DataFrame'>\n",
      "RangeIndex: 46686579 entries, 0 to 46686578\n",
      "Data columns (total 38 columns):\n",
      " #   Column           Dtype   \n",
      "---  ------           -----   \n",
      " 0   flow_duration    float32 \n",
      " 1   Header_Length    float32 \n",
      " 2   Protocol Type    float32 \n",
      " 3   Duration         float32 \n",
      " 4   Rate             float32 \n",
      " 5   fin_flag_number  bool    \n",
      " 6   syn_flag_number  bool    \n",
      " 7   rst_flag_number  bool    \n",
      " 8   psh_flag_number  bool    \n",
      " 9   ack_flag_number  bool    \n",
      " 10  ack_count        float32 \n",
      " 11  syn_count        float32 \n",
      " 12  fin_count        float32 \n",
      " 13  urg_count        float32 \n",
      " 14  rst_count        float32 \n",
      " 15  HTTP             bool    \n",
      " 16  HTTPS            bool    \n",
      " 17  DNS              bool    \n",
      " 18  SSH              bool    \n",
      " 19  TCP              bool    \n",
      " 20  UDP              bool    \n",
      " 21  ICMP             bool    \n",
      " 22  IPv              bool    \n",
      " 23  Tot sum          float32 \n",
      " 24  Min              float32 \n",
      " 25  Max              float32 \n",
      " 26  AVG              float32 \n",
      " 27  Std              float32 \n",
      " 28  Tot size         float32 \n",
      " 29  IAT              float32 \n",
      " 30  Number           float32 \n",
      " 31  Magnitue         float32 \n",
      " 32  Radius           float32 \n",
      " 33  Covariance       float32 \n",
      " 34  Variance         float32 \n",
      " 35  Weight           float32 \n",
      " 36  label            category\n",
      " 37  general_label    category\n",
      "dtypes: bool(13), category(2), float32(23)\n",
      "memory usage: 4.7 GB\n"
     ]
    }
   ],
   "source": [
    "refined_df = df.drop(columns=drop_columns_set)\n",
    "\n",
    "refined_df.info()"
   ]
  },
  {
   "cell_type": "code",
   "execution_count": 68,
   "id": "677b12e3-8ef5-496b-9bf3-4fec4110b563",
   "metadata": {},
   "outputs": [
    {
     "data": {
      "text/html": [
       "\n",
       "<p>\n",
       "    We finish the Feature Engineering process with \n",
       "    <strong>36 features</strong>.\n",
       "</p>\n"
      ],
      "text/plain": [
       "<IPython.core.display.HTML object>"
      ]
     },
     "execution_count": 68,
     "metadata": {},
     "output_type": "execute_result"
    }
   ],
   "source": [
    "HTML(f\"\"\"\n",
    "<p>\n",
    "    We finish the Feature Engineering process with \n",
    "    <strong>{len(utils.get_features_list(refined_df))} features</strong>.\n",
    "</p>\n",
    "\"\"\")"
   ]
  },
  {
   "cell_type": "code",
   "execution_count": 73,
   "id": "01ffc687-c56d-4f7e-a1b4-7576bff1a4f3",
   "metadata": {},
   "outputs": [
    {
     "name": "stdout",
     "output_type": "stream",
     "text": [
      "773M\t/var/fasttmp/dsn/unb_cic_ds_refined.parquet\n",
      "CPU times: user 1min 5s, sys: 5.86 s, total: 1min 11s\n",
      "Wall time: 1min 2s\n"
     ]
    }
   ],
   "source": [
    "%%time\n",
    "\n",
    "refined_df.to_parquet(refined_parquet_path)\n",
    "\n",
    "!du -sh {refined_parquet_path}"
   ]
  }
 ],
 "metadata": {
  "kernelspec": {
   "display_name": "Python 3 (ipykernel)",
   "language": "python",
   "name": "python3"
  },
  "language_info": {
   "codemirror_mode": {
    "name": "ipython",
    "version": 3
   },
   "file_extension": ".py",
   "mimetype": "text/x-python",
   "name": "python",
   "nbconvert_exporter": "python",
   "pygments_lexer": "ipython3",
   "version": "3.12.3"
  }
 },
 "nbformat": 4,
 "nbformat_minor": 5
}
